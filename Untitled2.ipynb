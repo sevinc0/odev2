{
 "cells": [
  {
   "cell_type": "code",
   "execution_count": 1,
   "id": "e2335671-7266-4d9c-8a1b-dfa7a8c8074b",
   "metadata": {},
   "outputs": [
    {
     "name": "stdout",
     "output_type": "stream",
     "text": [
      "Listeye portakal ekledikten sonra: ['elma', 'muz', 'çilek', 'kiraz', 'portakal']\n",
      "2. indeksdeki öğe değiştirildikten sonra: ['elma', 'muz', 'armut', 'kiraz', 'portakal']\n",
      "Muz kaldırıldıktan sonra: ['elma', 'armut', 'kiraz', 'portakal']\n",
      "Listenin uzunluğu: 4\n"
     ]
    }
   ],
   "source": [
    "meyveler = [\"elma\", \"muz\", \"çilek\", \"kiraz\"]\n",
    "\n",
    "meyveler.append(\"portakal\")\n",
    "print(\"Listeye portakal ekledikten sonra:\", meyveler)\n",
    "\n",
    "meyveler[2] = \"armut\"\n",
    "print(\"2. indeksdeki öğe değiştirildikten sonra:\", meyveler)\n",
    "\n",
    "meyveler.remove(\"muz\")\n",
    "print(\"Muz kaldırıldıktan sonra:\", meyveler)\n",
    "\n",
    "print(\"Listenin uzunluğu:\", len(meyveler))\n"
   ]
  },
  {
   "cell_type": "code",
   "execution_count": null,
   "id": "03fb8f48-88ce-4366-867e-753ef464b647",
   "metadata": {},
   "outputs": [],
   "source": [
    "sayilar = [15, 8, 22, 31, 5, 10]\n",
    "\n",
    "maksimum = max(sayilar)\n",
    "minimum = min(sayilar)\n",
    "\n",
    "print(\"Listenin en büyük elemanı:\", maksimum)\n",
    "print(\"Listenin en küçük elemanı:\", minimum)\n"
   ]
  },
  {
   "cell_type": "code",
   "execution_count": null,
   "id": "a694301c-ad41-4bf4-b454-5316e65cb35b",
   "metadata": {},
   "outputs": [],
   "source": [
    "Sayilar2 = [10, 20, 30, 40, 50, 60, 70, 80, 90, 100]\n",
    "\n",
    "ilk_5 = Sayilar2[:5]\n",
    "print(\"İlk 5 eleman:\", ilk_5)\n",
    "\n",
    "son_3 = Sayilar2[-3:]\n",
    "print(\"Son 3 eleman:\", son_3)\n",
    "\n",
    "aralik = Sayilar2[3:8]\n",
    "print(\"3. ve 7. indexler arasındaki elemanlar:\", aralik)\n"
   ]
  },
  {
   "cell_type": "code",
   "execution_count": 2,
   "id": "d9c79617-4251-496a-8daf-6b9359474fbf",
   "metadata": {},
   "outputs": [
    {
     "name": "stdout",
     "output_type": "stream",
     "text": [
      "0. Matematik\n",
      "1. Fizik\n",
      "2. Kimya\n",
      "3. Biyoloji\n"
     ]
    }
   ],
   "source": [
    "dersler = [\"Matematik\", \"Fizik\", \"Kimya\", \"Biyoloji\"]\n",
    "\n",
    "for index, ders in enumerate(dersler):\n",
    "    print(f\"{index}. {ders}\")\n"
   ]
  },
  {
   "cell_type": "code",
   "execution_count": null,
   "id": "5ffe92da-b83d-482c-864a-57249223b4b8",
   "metadata": {},
   "outputs": [],
   "source": [
    "A = {10, 20, 30, 40, 50}\n",
    "B = {30, 40, 50, 60, 70}\n",
    "birlesim = A | B\n",
    "print(\"A ve B'nin birleşimi:\", birlesim)\n",
    "kesisim = A & B\n",
    "print(\"A ve B'nin kesişimi:\", kesisim)\n",
    "fark_A = A - B\n",
    "print(\"A kümesinde olup B kümesinde olmayan elemanlar:\", fark_A)\n",
    "fark_B = B - A\n",
    "print(\"B kümesinde olup A kümesinde olmayan elemanlar:\", fark_B)\n"
   ]
  },
  {
   "cell_type": "code",
   "execution_count": null,
   "id": "6472dcd0-ff8d-4940-b628-b613ed1b8e23",
   "metadata": {},
   "outputs": [],
   "source": [
    "veriler = (5, 10, 15, 20, 25, 30, 35)\n",
    "ilk_uc = veriler[:3]\n",
    "print(\"İlk üç eleman:\", ilk_uc)\n",
    "son_iki = veriler[-2:]\n",
    "print(\"Son iki eleman:\", son_iki)\n",
    "uzunluk = len(veriler)\n",
    "print(\"Tuple'ın uzunluğu:\", uzunluk)\n",
    "var_mi = 20 in veriler\n",
    "print(\"20 sayısı veriler içinde var mı?:\", var_mi)\n"
   ]
  },
  {
   "cell_type": "code",
   "execution_count": 3,
   "id": "ff6a1ba8-67db-46ff-8799-26e95a7bd118",
   "metadata": {},
   "outputs": [
    {
     "name": "stdout",
     "output_type": "stream",
     "text": [
      "Güncellenmiş öğrenci bilgisi: {'isim': 'Ahmet', 'yas': 21, 'bolum': 'Bilgisayar Mühendisliği'}\n",
      "Okul bilgisi eklenmiş öğrenci: {'isim': 'Ahmet', 'yas': 21, 'bolum': 'Bilgisayar Mühendisliği', 'okul': 'İTÜ'}\n",
      "Öğrencinin ismi: Ahmet\n"
     ]
    }
   ],
   "source": [
    "ogrenci = {\"isim\": \"Ahmet\", \"yas\": 20, \"bolum\": \"Bilgisayar Mühendisliği\"}\n",
    "ogrenci[\"yas\"] = 21\n",
    "print(\"Güncellenmiş öğrenci bilgisi:\", ogrenci)\n",
    "ogrenci[\"okul\"] = \"İTÜ\"\n",
    "print(\"Okul bilgisi eklenmiş öğrenci:\", ogrenci)\n",
    "isim = ogrenci[\"isim\"]\n",
    "print(\"Öğrencinin ismi:\", isim)\n"
   ]
  },
  {
   "cell_type": "code",
   "execution_count": null,
   "id": "a7ff584a-00ca-4eae-893b-0369795d9711",
   "metadata": {},
   "outputs": [],
   "source": [
    "ders_notlari = {\n",
    "    \"Ali\": 85,\n",
    "    \"Zeynep\": 90,\n",
    "    \"Mehmet\": 78,\n",
    "    \"Elif\": 95\n",
    "}\n",
    "\n",
    "for ogrenci, notu in ders_notlari.items():\n",
    "    print(f\"Öğrenci: {ogrenci}, Notu: {notu}\")\n"
   ]
  },
  {
   "cell_type": "code",
   "execution_count": null,
   "id": "92af210f-cb2a-42d4-8b82-2063a4111bf8",
   "metadata": {},
   "outputs": [],
   "source": [
    "sehirler = [\"Ankara\", \"İstanbul\", \"İzmir\", \"Bursa\", \"Antalya\", \"Adana\", \"Trabzon\"]\n",
    "\n",
    "i_harfi_iceriyor = []\n",
    "for sehir in sehirler:\n",
    "    if 'İ' in sehir:\n",
    "        i_harfi_iceriyor.append(sehir)\n",
    "print(\"İ harfi içeren şehirler (for döngüsü ile):\", i_harfi_iceriyor)\n",
    "\n",
    "i_harfi_iceriyor_comprehension = [sehir for sehir in sehirler if 'İ' in sehir]\n",
    "print(\"İ harfi içeren şehirler (list comprehension ile):\", i_harfi_iceriyor_comprehension)\n"
   ]
  },
  {
   "cell_type": "code",
   "execution_count": null,
   "id": "9a4d1d46-75a5-403a-b800-120137edef8d",
   "metadata": {},
   "outputs": [],
   "source": [
    "sayilar = [x for x in range(1, 51) if x % 5 == 0]\n",
    "print(\"5'e bölünebilen sayılar:\", sayilar)\n"
   ]
  }
 ],
 "metadata": {
  "kernelspec": {
   "display_name": "anaconda-panel-2023.05-py310",
   "language": "python",
   "name": "conda-env-anaconda-panel-2023.05-py310-py"
  },
  "language_info": {
   "codemirror_mode": {
    "name": "ipython",
    "version": 3
   },
   "file_extension": ".py",
   "mimetype": "text/x-python",
   "name": "python",
   "nbconvert_exporter": "python",
   "pygments_lexer": "ipython3",
   "version": "3.11.5"
  }
 },
 "nbformat": 4,
 "nbformat_minor": 5
}
